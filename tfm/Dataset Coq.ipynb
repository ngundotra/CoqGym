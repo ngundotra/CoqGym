{
 "cells": [
  {
   "cell_type": "markdown",
   "id": "eastern-snapshot",
   "metadata": {},
   "source": [
    "# Dataset 0: Coq\n",
    "\n",
    "We create a linked dataset of\n",
    "\n",
    "    language, \n",
    "    theorem statement,\n",
    "    proof, \n",
    "    [docs if any], \n",
    "    extra_notation={'foldername':..., 'filename':...}\n",
    "\n",
    "To be honest, I don't exactly know if this will make sense.\n",
    "\n",
    "But the idea is to create a context based dataset for question answering. To be fair, I don't know, but I think that it is worth creating multi-language dataset just for modeling proofs.\n",
    "\n",
    "Then I can Amazon turk human descriptions of proofs.\n"
   ]
  },
  {
   "cell_type": "code",
   "execution_count": 2,
   "id": "alone-panic",
   "metadata": {},
   "outputs": [],
   "source": [
    "from pathlib import Path\n",
    "from glob import glob"
   ]
  },
  {
   "cell_type": "code",
   "execution_count": 5,
   "id": "irish-classics",
   "metadata": {},
   "outputs": [],
   "source": [
    "coq_paths = glob(\"../coq_projects/**/*.v\")"
   ]
  },
  {
   "cell_type": "code",
   "execution_count": 11,
   "id": "athletic-athens",
   "metadata": {},
   "outputs": [
    {
     "data": {
      "text/plain": [
       "('..', 'coq_projects', 'ruler-compass-geometry')"
      ]
     },
     "execution_count": 11,
     "metadata": {},
     "output_type": "execute_result"
    }
   ],
   "source": [
    "Path(coq_paths[0]).parts[:-1]"
   ]
  },
  {
   "cell_type": "code",
   "execution_count": null,
   "id": "sticky-cache",
   "metadata": {},
   "outputs": [],
   "source": [
    "class CoqFile:\n",
    "    def __init__(self, fname):\n",
    "        path = Path(fname)\n",
    "        # Skip ../coq_projects\n",
    "        self.folder = path.parts[2:-1]\n",
    "        self.name = path.name\n",
    "        self.sausages = []\n",
    "        \n",
    "    def parse_coq_containers(self):\n",
    "        \"\"\"\n",
    "        Parses a file into constituent proofs\n",
    "        \"\"\"\n",
    "        #"
   ]
  },
  {
   "cell_type": "code",
   "execution_count": 12,
   "id": "historic-battle",
   "metadata": {},
   "outputs": [],
   "source": [
    "class CoqContainer:\n",
    "    \"\"\"\n",
    "    TODO(ngundotra): change 2 named tuple or something\n",
    "    \n",
    "    A container for coq info\n",
    "    \"\"\"\n",
    "    def __init__(self):\n",
    "        self.language = \"Coq\"\n",
    "        self.theorem = \"\"\n",
    "        self.proof = \"\"\n",
    "        self.docs = []\n",
    "        self.extra = {}"
   ]
  },
  {
   "cell_type": "code",
   "execution_count": 6,
   "id": "recovered-difference",
   "metadata": {},
   "outputs": [
    {
     "data": {
      "text/plain": [
       "1164"
      ]
     },
     "execution_count": 6,
     "metadata": {},
     "output_type": "execute_result"
    }
   ],
   "source": [
    "len(coq_paths)"
   ]
  }
 ],
 "metadata": {
  "kernelspec": {
   "display_name": "coq_gym",
   "language": "python",
   "name": "coq_gym"
  },
  "language_info": {
   "codemirror_mode": {
    "name": "ipython",
    "version": 3
   },
   "file_extension": ".py",
   "mimetype": "text/x-python",
   "name": "python",
   "nbconvert_exporter": "python",
   "pygments_lexer": "ipython3",
   "version": "3.7.1"
  }
 },
 "nbformat": 4,
 "nbformat_minor": 5
}
